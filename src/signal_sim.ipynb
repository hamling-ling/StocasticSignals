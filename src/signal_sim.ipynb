{
 "cells": [
  {
   "cell_type": "markdown",
   "metadata": {},
   "source": [
    "# Noise Filter Simulation"
   ]
  },
  {
   "cell_type": "markdown",
   "metadata": {},
   "source": [
    "## Model equation\n",
    "\n",
    "Use following Path Loass model. Received signal $P_r(d)$ would be\n",
    "$$\n",
    "Pr(d)=P_0 - n \\ln(d) + X_\\sigma\n",
    "$$\n",
    "where\n",
    "* $d$ is a distance between emitter and receiver\n",
    "* $n$ is a path loss factor\n",
    "* $X_\\sigma$ is a Gaussian noise with mean 0 and variance $\\sigma$"
   ]
  },
  {
   "cell_type": "markdown",
   "metadata": {},
   "source": [
    "Assuming $\\sigma$ decreases when distance $d$ increases.\n",
    "$$\n",
    "\\sigma(d)=\\frac{\\sigma_0}{1+k \\dot d}\n",
    "$$"
   ]
  },
  {
   "cell_type": "markdown",
   "metadata": {},
   "source": [
    "## Selection algorithm\n",
    "\n",
    "Let's say we have observed signals $R_{ssi}$\n",
    "$$\n",
    "R_{ssi}=\\begin{pmatrix}\n",
    "b_{1,1} & b_{1,2} & b_{1,3} \\\\\n",
    "b_{2,1} & b_{2,2} & b_{2,3} \\\\\n",
    "b_{3,1} & b_{3,2} & b_{3,3} \\\\\n",
    "\\end{pmatrix}"
   ]
  },
  {
   "cell_type": "markdown",
   "metadata": {},
   "source": [
    "State transition propability\n",
    "$$\n",
    "P=H I B\n",
    "$$\n",
    "$H$ is a one hot matrix to select single row from $R_{ssi}$. $I$ is an identity matrix. $B$ is also a one hot matrix to select single column from $R_{ssi}$ . $H$ and $B$ can be found by\n",
    "$$\n",
    "H = h_{k} {h_k}^T \\\\\n",
    "B = b_{k} {b_k}^T\n",
    "$$"
   ]
  },
  {
   "cell_type": "markdown",
   "metadata": {},
   "source": [
    "\n",
    "$h_{k}$ is a one hot vector of horizontal sum of H. It can be found by\n",
    "$$\n",
    "H_{v}(k)=\\sum_i b_{k,i}\n",
    "$$\n",
    "where $k=\\{1,2,3\\}$\n",
    "and $h_k$ can be computed by\n",
    "$$\n",
    "h_k = \\delta_{k,argmax (H_{v}(k))}\n",
    "$$"
   ]
  },
  {
   "cell_type": "markdown",
   "metadata": {},
   "source": [
    "$b_k$ is also a one hot vector. 1 placed at maximum $b$ in each row.\n",
    "$$\n",
    "b_k=\\delta_{k,argmax(b_{k,i})}\n",
    "$$"
   ]
  },
  {
   "cell_type": "markdown",
   "metadata": {},
   "source": [
    "## Standard error\n",
    "\n",
    "Simulate standard error\n",
    "$$\n",
    "SE = \\frac{\\sigma(d)}{\\sqrt{n}}\n",
    "$$\n"
   ]
  }
 ],
 "metadata": {
  "kernelspec": {
   "display_name": "py3",
   "language": "python",
   "name": "python3"
  },
  "language_info": {
   "name": "python",
   "version": "3.12.3"
  }
 },
 "nbformat": 4,
 "nbformat_minor": 2
}
