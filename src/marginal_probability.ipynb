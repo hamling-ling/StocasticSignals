{
 "cells": [
  {
   "cell_type": "markdown",
   "metadata": {},
   "source": [
    "# Marginal probability\n",
    "\n",
    "$$\n",
    "p(x) = N(\\bar{x}, \\sigma_x) \\\\\n",
    "p(y) = N(\\bar{y}, \\sigma_y)\n",
    "$$\n",
    "を使って周辺確率を求めてみる。"
   ]
  },
  {
   "cell_type": "code",
   "execution_count": 9,
   "metadata": {},
   "outputs": [],
   "source": [
    "import numpy as np\n",
    "from scipy import integrate\n",
    "import matplotlib.pyplot as plt"
   ]
  },
  {
   "cell_type": "code",
   "execution_count": 3,
   "metadata": {},
   "outputs": [
    {
     "name": "stdout",
     "output_type": "stream",
     "text": [
      "Prior probability P(x)=0.6, P(y)=0.4\n"
     ]
    },
    {
     "data": {
      "image/png": "[encoded data removed]",
      "text/plain": [
       "<Figure size 640x480 with 1 Axes>"
      ]
     },
     "metadata": {},
     "output_type": "display_data"
    }
   ],
   "source": [
    "POINTS_X=6000000\n",
    "POINTS_Y=4000000\n",
    "xavg = -50\n",
    "sigmax = 10\n",
    "xs=np.random.normal(loc=xavg, scale=sigmax, size=POINTS_X)\n",
    "\n",
    "yavg = -70\n",
    "sigmay = 5\n",
    "ys=np.random.normal(loc=yavg, scale=sigmay, size=POINTS_Y)\n",
    "\n",
    "plt.hist(xs,bins=100, label=\"x\")\n",
    "plt.hist(ys,bins=100, label=\"y\")\n",
    "plt.legend()\n",
    "plt.xlim(-90,-20)\n",
    "\n",
    "Px = len(xs)/(len(xs) + len(ys))\n",
    "Py = len(ys)/(len(xs) + len(ys))\n",
    "print(f\"Prior probability P(x)={round(Px,3)}, P(y)={round(Py,3)}\")"
   ]
  },
  {
   "cell_type": "markdown",
   "metadata": {},
   "source": [
    "x=[60,65] で値が取得できたとき、x1 である確率をヒストグラムから求めてみる。"
   ]
  },
  {
   "cell_type": "code",
   "execution_count": 7,
   "metadata": {},
   "outputs": [
    {
     "name": "stdout",
     "output_type": "stream",
     "text": [
      "P(z|x)=0.77\n"
     ]
    }
   ],
   "source": [
    "x_count = np.count_nonzero((-60-0.5 <= xs) & (xs <= -60+0.5))\n",
    "y_count = np.count_nonzero((-60-0.5 <= ys) & (ys <= -60+0.5))\n",
    "\n",
    "p=x_count / (x_count + y_count)\n",
    "print(f\"P(z|x)={round(p,3)}\")"
   ]
  },
  {
   "cell_type": "markdown",
   "metadata": {},
   "source": [
    "z が得られたとき、x に由来する確率密度 $f(z|x)$ と y に由来する確率密度 $f(z|y)$ は以下で表される。\n",
    "$$\n",
    "f(z|x)=\\frac{1}{\\sqrt{2 \\pi \\sigma^2_x}} \\exp \\lparen - \\frac{(z-\\mu_x)^2}{2 \\sigma_x^2} \\rparen \\\\\n",
    "f(z|y)=\\frac{1}{\\sqrt{2 \\pi \\sigma^2_y}} \\exp \\lparen - \\frac{(z-\\mu_y)^2}{2 \\sigma_y^2} \\rparen\n",
    "$$\n",
    "\n",
    "ベイズの定理より、z が x に由来する確率 $P(z|x)$ は以下となる。\n",
    "$$\n",
    "P(z|x) = \\frac{P(x) f(z|x)}{P(x) f(z|x) + P(y) f(z|y))}\n",
    "$$\n",
    "ここで\n",
    "* $P(x)$ は x が発生する事前確率、$P(y)$ は y が発生する事前確率\n",
    "* 分母 $P(x) f(z|x) + P(y) f(z|y))$ は全確率の法則による z の総確率密度\n"
   ]
  },
  {
   "cell_type": "markdown",
   "metadata": {},
   "source": [
    "ヒストグラムと比較したいので、z = [-60.5,-59.5] が x 由来である確率を求める。"
   ]
  },
  {
   "cell_type": "code",
   "execution_count": 10,
   "metadata": {},
   "outputs": [
    {
     "name": "stdout",
     "output_type": "stream",
     "text": [
      "P(z|x)=0.77\n"
     ]
    }
   ],
   "source": [
    "funx = lambda z: 1/(np.sqrt(2 * np.pi * (sigmax**2))) * np.exp(-((z - xavg)**2)/(2*sigmax**2))\n",
    "funy = lambda z: 1/(np.sqrt(2 * np.pi * (sigmay**2))) * np.exp(-((z - yavg)**2)/(2*sigmay**2))\n",
    "integral_fzx, _ = integrate.quad(funx, -60-0.5, -60+0.5)\n",
    "integral_fzy, _ = integrate.quad(funy, -60-0.5, -60+0.5)\n",
    "\n",
    "pzx=(Px * integral_fzx)/(Px * integral_fzx + Py * integral_fzy)\n",
    "print(f\"P(z|x)={round(pzx,3)}\")"
   ]
  },
  {
   "cell_type": "markdown",
   "metadata": {},
   "source": [
    "ヒストグラムでは 0.758 だったので、近しい値が得られた。"
   ]
  }
 ],
 "metadata": {
  "kernelspec": {
   "display_name": "py3",
   "language": "python",
   "name": "python3"
  },
  "language_info": {
   "codemirror_mode": {
    "name": "ipython",
    "version": 3
   },
   "file_extension": ".py",
   "mimetype": "text/x-python",
   "name": "python",
   "nbconvert_exporter": "python",
   "pygments_lexer": "ipython3",
   "version": "3.12.3"
  }
 },
 "nbformat": 4,
 "nbformat_minor": 2
}
